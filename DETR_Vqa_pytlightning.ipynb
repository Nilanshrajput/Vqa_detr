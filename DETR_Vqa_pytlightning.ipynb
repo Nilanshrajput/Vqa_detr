{
  "nbformat": 4,
  "nbformat_minor": 0,
  "metadata": {
    "colab": {
      "name": "Detr_vilbert.ipynb",
      "provenance": [],
      "authorship_tag": "ABX9TyNSszCNPJits4YqhEwhq72X",
      "include_colab_link": true
    },
    "kernelspec": {
      "name": "python3",
      "display_name": "Python 3"
    },
    "accelerator": "TPU"
  },
  "cells": [
    {
      "cell_type": "markdown",
      "metadata": {
        "id": "view-in-github",
        "colab_type": "text"
      },
      "source": [
        "<a href=\"https://colab.research.google.com/github/Nilanshrajput/Vqa_detr/blob/master/DETR_Vqa_pytlightning.ipynb\" target=\"_parent\"><img src=\"https://colab.research.google.com/assets/colab-badge.svg\" alt=\"Open In Colab\"/></a>"
      ]
    },
    {
      "cell_type": "markdown",
      "metadata": {
        "id": "kqe_0nc5dyAq",
        "colab_type": "text"
      },
      "source": [
        "# Object Detection with DETR - a minimal implementation\n",
        "\n",
        "In this notebook we show a demo of DETR (Detection Transformer), with slight differences with the baseline model in the paper.\n",
        "\n",
        "We show how to define the model, load pretrained weights and visualize bounding box and class predictions.\n",
        "\n",
        "Let's start with some common imports."
      ]
    },
    {
      "cell_type": "code",
      "metadata": {
        "id": "sDHEKd8CDk3h",
        "colab_type": "code",
        "colab": {
          "base_uri": "https://localhost:8080/",
          "height": 126
        },
        "outputId": "b74e928b-62e6-4795-b42f-599826472a78"
      },
      "source": [
        "from google.colab import drive\n",
        "drive.mount('/gdrive')"
      ],
      "execution_count": 1,
      "outputs": [
        {
          "output_type": "stream",
          "text": [
            "Go to this URL in a browser: https://accounts.google.com/o/oauth2/auth?client_id=947318989803-6bn6qk8qdgf4n4g3pfee6491hc0brc4i.apps.googleusercontent.com&redirect_uri=urn%3aietf%3awg%3aoauth%3a2.0%3aoob&response_type=code&scope=email%20https%3a%2f%2fwww.googleapis.com%2fauth%2fdocs.test%20https%3a%2f%2fwww.googleapis.com%2fauth%2fdrive%20https%3a%2f%2fwww.googleapis.com%2fauth%2fdrive.photos.readonly%20https%3a%2f%2fwww.googleapis.com%2fauth%2fpeopleapi.readonly\n",
            "\n",
            "Enter your authorization code:\n",
            "··········\n",
            "Mounted at /gdrive\n"
          ],
          "name": "stdout"
        }
      ]
    },
    {
      "cell_type": "code",
      "metadata": {
        "id": "xBlE2BQfiSNk",
        "colab_type": "code",
        "colab": {}
      },
      "source": [
        "!curl https://raw.githubusercontent.com/pytorch/xla/master/contrib/scripts/env-setup.py -o pytorch-xla-env-setup.py\n",
        "!python pytorch-xla-env-setup.py --version nightly --apt-packages libomp5 libopenblas-dev"
      ],
      "execution_count": 0,
      "outputs": []
    },
    {
      "cell_type": "code",
      "metadata": {
        "id": "saZ2BV_Ag0uc",
        "colab_type": "code",
        "colab": {}
      },
      "source": [
        "!pip install transformers\n",
        "!pip install pytorch-lightning"
      ],
      "execution_count": 0,
      "outputs": []
    },
    {
      "cell_type": "code",
      "metadata": {
        "id": "Jf59UNQ37QhJ",
        "colab_type": "code",
        "colab": {}
      },
      "source": [
        "from PIL import Image\n",
        "import requests\n",
        "import matplotlib.pyplot as plt\n",
        "%config InlineBackend.figure_format = 'retina'\n",
        "import json\n",
        "\n",
        "import torch\n",
        "import torch.utils.data as data\n",
        "from torch import nn\n",
        "from torchvision.models import resnet50\n",
        "import torchvision.transforms as T\n",
        "import os\n",
        "import json\n",
        "import tqdm\n",
        "\n",
        "import logging\n",
        "from argparse import Namespace\n",
        "\n",
        "from functools import lru_cache\n",
        "\n",
        "import numpy as np\n",
        "import torch\n",
        "from torch.utils.data import Dataset\n",
        "from torch.utils.data import DataLoader\n",
        "from torch.autograd import Variable\n",
        "\n",
        "from transformers.tokenization_bert import BertTokenizer\n",
        "from transformers import BertConfig, EncoderDecoderConfig, EncoderDecoderModel, BertModel\n",
        "from transformers import AdamW\n",
        "from transformers import get_linear_schedule_with_warmup\n",
        "import torchtext\n",
        "\n",
        "from pytorch_lightning.core.lightning import LightningModule\n",
        "from pytorch_lightning import Trainer\n",
        "\n",
        "\n",
        "\n",
        "import pdb\n",
        "import os"
      ],
      "execution_count": 0,
      "outputs": []
    },
    {
      "cell_type": "markdown",
      "metadata": {
        "id": "RSnU5JFxGeDe",
        "colab_type": "text"
      },
      "source": [
        "## DETR\n",
        "Here is a minimal implementation of DETR:"
      ]
    },
    {
      "cell_type": "code",
      "metadata": {
        "id": "h91rsIPl7tVl",
        "colab_type": "code",
        "colab": {}
      },
      "source": [
        "class DETRdemo(nn.Module):\n",
        "    \"\"\"\n",
        "    Demo DETR implementation.\n",
        "\n",
        "    Demo implementation of DETR in minimal number of lines, with the\n",
        "    following differences wrt DETR in the paper:\n",
        "    * learned positional encoding (instead of sine)\n",
        "    * positional encoding is passed at input (instead of attention)\n",
        "    * fc bbox predictor (instead of MLP) nj\n",
        "    The model achieves ~40 AP on COCO val5k and runs at ~28 FPS on Tesla V100.\n",
        "    Only batch size 1 supported.\n",
        "    \"\"\"\n",
        "    def __init__(self, num_classes, hidden_dim=256, nheads=8,\n",
        "                 num_encoder_layers=6, num_decoder_layers=6):\n",
        "        super().__init__()\n",
        "\n",
        "        # create ResNet-50 backbone\n",
        "        self.backbone = resnet50()\n",
        "        del self.backbone.fc\n",
        "\n",
        "        # create conversion layer\n",
        "        self.conv = nn.Conv2d(2048, hidden_dim, 1)\n",
        "\n",
        "        # create a default PyTorch transformer\n",
        "        self.transformer = nn.Transformer(\n",
        "            hidden_dim, nheads, num_encoder_layers, num_decoder_layers)\n",
        "\n",
        "        # prediction heads, one extra class for predicting non-empty slots\n",
        "        # note that in baseline DETR linear_bbox layer is 3-layer MLP\n",
        "        self.linear_class = nn.Linear(hidden_dim, num_classes + 1)\n",
        "        self.linear_bbox = nn.Linear(hidden_dim, 4)\n",
        "\n",
        "        # output positional encodings (object queries)\n",
        "        self.query_pos = nn.Parameter(torch.rand(100, hidden_dim))\n",
        "\n",
        "        # spatial positional encodings\n",
        "        # note that in baseline DETR we use sine positional encodings\n",
        "        self.row_embed = nn.Parameter(torch.rand(50, hidden_dim // 2))\n",
        "        self.col_embed = nn.Parameter(torch.rand(50, hidden_dim // 2))\n",
        "\n",
        "    def forward(self, inputs):\n",
        "        # propagate inputs through ResNet-50 up to avg-pool layer\n",
        "        x = self.backbone.conv1(inputs)\n",
        "        x = self.backbone.bn1(x)\n",
        "        x = self.backbone.relu(x)\n",
        "        x = self.backbone.maxpool(x)\n",
        "\n",
        "        x = self.backbone.layer1(x)\n",
        "        x = self.backbone.layer2(x)\n",
        "        x = self.backbone.layer3(x)\n",
        "        x = self.backbone.layer4(x)\n",
        "\n",
        "        # convert from 2048 to 256 feature planes for the transformer\n",
        "        h = self.conv(x)\n",
        "        bb_ot = h\n",
        "        \n",
        "        # construct positional encodings\n",
        "        \"\"\"        H, W = h.shape[-2:]\n",
        "        pos = torch.cat([\n",
        "            self.col_embed[:W].unsqueeze(0).repeat(H, 1, 1),\n",
        "            self.row_embed[:H].unsqueeze(1).repeat(1, W, 1),\n",
        "        ], dim=-1).flatten(0, 1).unsqueeze(1)\"\"\"\n",
        "\n",
        "        bs,_,H, W = h.shape\n",
        "        pos = torch.cat([\n",
        "        self.col_embed[:W].unsqueeze(0).unsqueeze(1).repeat(bs,H, 1, 1),\n",
        "        self.row_embed[:H].unsqueeze(0).unsqueeze(2).repeat(bs,1, W, 1),\n",
        "        ], dim=-1).flatten(1, 2)\n",
        "\n",
        "\n",
        "        #print(self.col_embed[:W].unsqueeze(0).repeat(H, 1, 1))\n",
        "        # propagate through the transformer\n",
        "        #shape changed to (W*H,bs,hidden_dim) for both pos and h\n",
        "        h = self.transformer(pos.permute(1, 0, 2) + 0.1 * h.flatten(2).permute(2, 0, 1),\n",
        "                             self.query_pos.unsqueeze(1).repeat(1,bs,1)).transpose(0, 1)\n",
        "        \n",
        "        # finally project transformer outputs to class labels and bounding boxes\n",
        "        return {'pred_logits': self.linear_class(h), \n",
        "                'pred_boxes': self.linear_bbox(h).sigmoid(),\n",
        "                'decoder_out':h,\n",
        "                'res_out':bb_ot}"
      ],
      "execution_count": 0,
      "outputs": []
    },
    {
      "cell_type": "code",
      "metadata": {
        "id": "dComoNKgtMEN",
        "colab_type": "code",
        "colab": {}
      },
      "source": [
        "class VQA_DETR(LightningModule):\n",
        "    def __init__(self,hparams,vqa_dataset, num_ans,hidden_size=256, num_attention_heads = 8, num_hidden_layers = 6):\n",
        "        super().__init__()\n",
        "\n",
        "        self.hparams = hparams\n",
        "        self.vqa_dataset = vqa_dataset\n",
        "\n",
        "        self.bert__decoder_config = BertConfig(is_decoder = True,hidden_size=hidden_size, num_attention_heads=num_attention_heads, num_hidden_layers=num_hidden_layers)\n",
        "        #self.enc_dec_config = EncoderDecoderConfig.from_encoder_decoder_configs(encoder_config= self.bert_config, decoder_config= self.bert_config)\n",
        "        #self.model = EncoderDecoderModel(config= self.enc_dec_config)\n",
        "        self.bert_decoder = BertModel(config=self.bert__decoder_config)\n",
        "\n",
        "        self.detr = DETRdemo(num_classes=91)\n",
        "        state_dict = torch.hub.load_state_dict_from_url(\n",
        "            url='https://dl.fbaipublicfiles.com/detr/detr_demo-da2a99e9.pth',\n",
        "            map_location='cpu', check_hash=True)\n",
        "        self.detr.load_state_dict(state_dict)\n",
        "        #self.detr  = self.detr.cuda()\n",
        "\n",
        "        self.classifier  = nn.Linear(hidden_size*2,num_ans)\n",
        "\n",
        "        self.drop_out = nn.Dropout(p=0.2)\n",
        "        self.log_softmax = nn.LogSoftmax().cuda()\n",
        "        \n",
        "\n",
        "    def forward(self,img, q_ids):\n",
        "        \n",
        "        img_ecs = self.detr(img)['decoder_out'].flatten(2)\n",
        "        o1,_ = self.bert_decoder(input_ids = q_ids, encoder_hidden_states = img_ecs)\n",
        "\n",
        "        mean_pool = torch.mean(o1,1)\n",
        "        max_pool,_ = torch.max(o1,1)\n",
        "        cat = torch.cat((mean_pool, max_pool),1)\n",
        "\n",
        "        bo = self.drop_out(cat)\n",
        "        output = self.classifier(bo)\n",
        "        \n",
        "        nll = -self.log_softmax(output)\n",
        "\n",
        "        return {'logits':output,'nll':nll}\n",
        "\n",
        "    def training_step(self, batch, batch_idx):\n",
        "        im,q,a  = batch\n",
        "        ids = q[\"ids\"]\n",
        "\n",
        "        outputs = self(im,ids)\n",
        "        output =outputs['logits']\n",
        "\n",
        "        loss = self.loss_fn(output, a)\n",
        "        tensorboard_logs = {'train_loss': loss}\n",
        "\n",
        "        return {'loss': loss, 'log': tensorboard_logs}\n",
        "\n",
        "    def loss_fn(self, outputs, targets):\n",
        "        return nn.CrossEntropyLoss()(outputs, targets)\n",
        "\n",
        "    @lru_cache()\n",
        "    def total_steps(self):\n",
        "        return len(self.train_dataloader()) // self.hparams.accumulate_grad_batches * self.hparams.epochs\n",
        "\n",
        "\n",
        "    def configure_optimizers(self):\n",
        "        param_optimizer = list(self.named_parameters())\n",
        "        no_decay = [\"bias\", \"LayerNorm.bias\", \"LayerNorm.weight\"]\n",
        "        optimizer_parameters = [\n",
        "            {'params': [p for n, p in param_optimizer if not any(nd in n for nd in no_decay)], 'weight_decay': 0.001},\n",
        "            {'params': [p for n, p in param_optimizer if any(nd in n for nd in no_decay)], 'weight_decay': 0.0},\n",
        "        ]\n",
        "\n",
        "        optimizer = AdamW(optimizer_parameters, lr=self.hparams.lr)\n",
        "\n",
        "        scheduler = get_linear_schedule_with_warmup(\n",
        "            optimizer,\n",
        "            num_warmup_steps=0,\n",
        "            num_training_steps=self.total_steps(),\n",
        "        )\n",
        "\n",
        "        return [optimizer],  [{\"scheduler\": scheduler, \"interval\": \"step\"}]\n",
        "\n",
        "    def train_dataloader(self):\n",
        "\n",
        "        loader = DataLoader(self.vqa_dataset, batch_size = self.hparams.batch_size,num_workers=1, shuffle= True)\n",
        "        return loader\n"
      ],
      "execution_count": 0,
      "outputs": []
    },
    {
      "cell_type": "code",
      "metadata": {
        "id": "7SoSX5_T7AQ1",
        "colab_type": "code",
        "colab": {}
      },
      "source": [
        "!wget --header=\"Host: s3.amazonaws.com\" --header=\"User-Agent: Mozilla/5.0 (X11; Linux x86_64) AppleWebKit/537.36 (KHTML, like Gecko) Chrome/81.0.4044.138 Safari/537.36\" --header=\"Accept: text/html,application/xhtml+xml,application/xml;q=0.9,image/webp,image/apng,*/*;q=0.8,application/signed-exchange;v=b3;q=0.9\" --header=\"Accept-Language: en-GB,en-US;q=0.9,en;q=0.8\" \"https://s3.amazonaws.com/cvmlp/vqa/mscoco/vqa/v2_Annotations_Train_mscoco.zip\" -c -O 'v2_Annotations_Train_mscoco.zip'\n",
        "!unzip /content/v2_Annotations_Train_mscoco.zip\n",
        "!wget --header=\"Host: images.cocodataset.org\" --header=\"User-Agent: Mozilla/5.0 (X11; Linux x86_64) AppleWebKit/537.36 (KHTML, like Gecko) Chrome/81.0.4044.138 Safari/537.36\" --header=\"Accept: text/html,application/xhtml+xml,application/xml;q=0.9,image/webp,image/apng,*/*;q=0.8,application/signed-exchange;v=b3;q=0.9\" --header=\"Accept-Language: en-GB,en-US;q=0.9,en;q=0.8\" \"http://images.cocodataset.org/zips/train2014.zip\" -c -O 'train2014.zip'\n",
        "!unzip train2014.zip\n",
        "!wget --header=\"Host: s3.amazonaws.com\" --header=\"User-Agent: Mozilla/5.0 (X11; Linux x86_64) AppleWebKit/537.36 (KHTML, like Gecko) Chrome/81.0.4044.138 Safari/537.36\" --header=\"Accept: text/html,application/xhtml+xml,application/xml;q=0.9,image/webp,image/apng,*/*;q=0.8,application/signed-exchange;v=b3;q=0.9\" --header=\"Accept-Language: en-GB,en-US;q=0.9,en;q=0.8\" \"https://s3.amazonaws.com/cvmlp/vqa/mscoco/vqa/v2_Questions_Train_mscoco.zip\" -c -O 'v2_Questions_Train_mscoco.zip'\n",
        "!unzip v2_Questions_Train_mscoco.zip\n",
        "##!wget --header=\"Host: images.cocodataset.org\" --header=\"User-Agent: Mozilla/5.0 (X11; Linux x86_64) AppleWebKit/537.36 (KHTML, like Gecko) Chrome/81.0.4044.138 Safari/537.36\" --header=\"Accept: text/html,application/xhtml+xml,application/xml;q=0.9,image/webp,image/apng,*/*;q=0.8,application/signed-exchange;v=b3;q=0.9\" --header=\"Accept-Language: en-GB,en-US;q=0.9,en;q=0.8\" \"http://images.cocodataset.org/zips/val2014.zip\" -c -O 'val2014.zip'\n",
        "#!unzip /content/val2014.zip\n",
        "#!wget --header=\"Host: s3.amazonaws.com\" --header=\"User-Agent: Mozilla/5.0 (X11; Linux x86_64) AppleWebKit/537.36 (KHTML, like Gecko) Chrome/81.0.4044.138 Safari/537.36\" --header=\"Accept: text/html,application/xhtml+xml,application/xml;q=0.9,image/webp,image/apng,*/*;q=0.8,application/signed-exchange;v=b3;q=0.9\" --header=\"Accept-Language: en-GB,en-US;q=0.9,en;q=0.8\" \"https://s3.amazonaws.com/cvmlp/vqa/mscoco/vqa/v2_Questions_Val_mscoco.zip\" -c -O 'v2_Questions_Val_mscoco.zip'\n",
        "#!unzip v2_Questions_Val_mscoco.zip\n",
        "#!wget --header=\"Host: s3.amazonaws.com\" --header=\"User-Agent: Mozilla/5.0 (X11; Linux x86_64) AppleWebKit/537.36 (KHTML, like Gecko) Chrome/81.0.4044.138 Safari/537.36\" --header=\"Accept: text/html,application/xhtml+xml,application/xml;q=0.9,image/webp,image/apng,*/*;q=0.8,application/signed-exchange;v=b3;q=0.9\" --header=\"Accept-Language: en-GB,en-US;q=0.9,en;q=0.8\" \"https://s3.amazonaws.com/cvmlp/vqa/mscoco/vqa/v2_Questions_Test_mscoco.zip\" -c -O 'v2_Questions_Test_mscoco.zip'\n",
        "#!unzip v2_Questions_Test_mscoco.zip\n",
        "#!wget --header=\"Host: images.cocodataset.org\" --header=\"User-Agent: Mozilla/5.0 (X11; Linux x86_64) AppleWebKit/537.36 (KHTML, like Gecko) Chrome/81.0.4044.138 Safari/537.36\" --header=\"Accept: text/html,application/xhtml+xml,application/xml;q=0.9,image/webp,image/apng,*/*;q=0.8,application/signed-exchange;v=b3;q=0.9\" --header=\"Accept-Language: en-GB,en-US;q=0.9,en;q=0.8\" \"http://images.cocodataset.org/zips/test2015.zip\" -c -O 'test2015.zip'\n",
        "#!unzip test2015.zip"
      ],
      "execution_count": 0,
      "outputs": []
    },
    {
      "cell_type": "code",
      "metadata": {
        "id": "NiPadTPQbG0u",
        "colab_type": "code",
        "colab": {}
      },
      "source": [
        "\n",
        "def assert_eq(real, expected):\n",
        "    assert real == expected, \"%s (true) vs %s (expected)\" % (real, expected)\n",
        "\n",
        "def _create_entry(question, answer):\n",
        "    answer.pop(\"image_id\")\n",
        "    answer.pop(\"question_id\")\n",
        "    entry = {\n",
        "        \"question_id\": question[\"question_id\"],\n",
        "        \"image_id\": question[\"image_id\"],\n",
        "        \"question\": question[\"question\"],\n",
        "        \"answer\": [a['answer'] for a in answer['answers']],\n",
        "    }\n",
        "    return entry\n",
        "\n",
        "def _load_dataset(dataroot, name):\n",
        "    \"\"\"Load entries\n",
        "    dataroot: root path of dataset\n",
        "    name: 'train', 'val', 'trainval', 'minsval'\n",
        "    \"\"\"\n",
        "    if name == 'train' or name == 'val':\n",
        "        question_path = os.path.join(dataroot, \"v2_OpenEnded_mscoco_%s2014_questions.json\" % name)\n",
        "        questions = sorted(json.load(open(question_path))[\"questions\"], key=lambda x: x[\"question_id\"])\n",
        "        answer_path = os.path.join(dataroot, \"v2_mscoco_%s2014_annotations.json\" % name)\n",
        "        answers = json.load(open(answer_path, \"rb\"))[\"annotations\"]\n",
        "        answers = sorted(answers, key=lambda x: x[\"question_id\"])\n",
        "\n",
        "    elif name  == 'trainval':\n",
        "        question_path_train = os.path.join(dataroot, \"v2_OpenEnded_mscoco_%s2014_questions.json\" % 'train')\n",
        "        questions_train = sorted(json.load(open(question_path_train))[\"questions\"], key=lambda x: x[\"question_id\"])\n",
        "        answer_path_train = os.path.join(dataroot, \"v2_mscoco_%s2014_annotations.json\" % 'train')\n",
        "        answers_train = json.load(open(answer_path_train, \"rb\"))[\"annotations\"]\n",
        "        answers_train = sorted(answers_train, key=lambda x: x[\"question_id\"])\n",
        "\n",
        "        question_path_val = os.path.join(dataroot, \"v2_OpenEnded_mscoco_%s2014_questions.json\" % 'val')\n",
        "        questions_val = sorted(json.load(open(question_path_val))[\"questions\"], key=lambda x: x[\"question_id\"])\n",
        "        answer_path_val = os.path.join(dataroot, \"v2_mscoco_%s2014_annotations.json\" % 'val')\n",
        "        answers_val = json.load(open(answer_path_val, \"rb\"))[\"annotations\"]\n",
        "        answers_val = sorted(answers_val, key=lambda x: x[\"question_id\"])\n",
        "        questions = questions_train + questions_val[:-3000]\n",
        "        answers = answers_train + answers_val[:-3000]\n",
        "\n",
        "    elif name == 'minval':\n",
        "        question_path_val = os.path.join(dataroot, \"v2_OpenEnded_mscoco_%s2014_questions.json\" % 'val')\n",
        "        questions_val = sorted(json.load(open(question_path_val))[\"questions\"], key=lambda x: x[\"question_id\"])\n",
        "        answer_path_val = os.path.join(dataroot, \"v2_mscoco_%s2014_annotations.json\" % 'val')\n",
        "        answers_val = json.load(open(answer_path_val, \"rb\"))[\"annotations\"]\n",
        "        answers_val = sorted(answers_val, key=lambda x: x[\"question_id\"])        \n",
        "        questions = questions_val[-3000:]\n",
        "        answers = answers_val[-3000:]\n",
        "\n",
        "    elif name == 'test':\n",
        "        question_path_test = os.path.join(dataroot, \"v2_OpenEnded_mscoco_%s2015_questions.json\" % 'test')\n",
        "        questions_test = sorted(json.load(open(question_path_test))[\"questions\"], key=lambda x: x[\"question_id\"])\n",
        "        questions = questions_test\n",
        "    else:\n",
        "        assert False, \"data split is not recognized.\"\n",
        "\n",
        "    if 'test' in name:\n",
        "        entries = []\n",
        "        for question in questions:\n",
        "            entries.append(question)\n",
        "    else:\n",
        "        assert_eq(len(questions), len(answers))\n",
        "        entries = []\n",
        "        for question, answer in zip(questions, answers):\n",
        "            assert_eq(question[\"question_id\"], answer[\"question_id\"])\n",
        "            assert_eq(question[\"image_id\"], answer[\"image_id\"])\n",
        "            entries.append(_create_entry(question, answer))\n",
        "    return entries"
      ],
      "execution_count": 0,
      "outputs": []
    },
    {
      "cell_type": "code",
      "metadata": {
        "id": "c_KSLg6prP4J",
        "colab_type": "code",
        "colab": {}
      },
      "source": [
        "entries = _load_dataset(dataroot='/content/',name='train')\n"
      ],
      "execution_count": 0,
      "outputs": []
    },
    {
      "cell_type": "code",
      "metadata": {
        "id": "tdewFhEzUU1d",
        "colab_type": "code",
        "colab": {}
      },
      "source": [
        "# compile a list of all the answers\n",
        "all_answers  = set()\n",
        "for a in entries:\n",
        "    all_answers.update(a['answer'])\n",
        "all_answers=list(all_answers)\n"
      ],
      "execution_count": 0,
      "outputs": []
    },
    {
      "cell_type": "code",
      "metadata": {
        "id": "d-Q_quxQmxOv",
        "colab_type": "code",
        "colab": {}
      },
      "source": [
        "answer_to_index = dict()\n",
        "for i,answer in enumerate(all_answers):\n",
        "    answer_to_index[answer]=i\n"
      ],
      "execution_count": 0,
      "outputs": []
    },
    {
      "cell_type": "code",
      "metadata": {
        "id": "BBlfQ2YngeTd",
        "colab_type": "code",
        "colab": {}
      },
      "source": [
        "class VQA(data.Dataset):\n",
        "    \"\"\" VQA dataset, open-ended \"\"\"\n",
        "    def __init__(self, root, answer_to_index, tokenizer ,split = 'train', max_len = 20):\n",
        "        super(VQA, self).__init__()\n",
        "\n",
        "\n",
        "        self.root = root\n",
        "        self.answer_to_index = answer_to_index\n",
        "        self.split = split\n",
        "        self.tokenizer = tokenizer\n",
        "        self.max_len = max_len\n",
        "        self.entries = self._load_dataset( self.root, self.split)\n",
        "\n",
        "         # standard PyTorch mean-std input image normalization\n",
        "        self.transform = T.Compose([\n",
        "            T.Resize(size=(800,800)),\n",
        "            T.ToTensor(),\n",
        "            T.Normalize([0.485, 0.456, 0.406], [0.229, 0.224, 0.225])\n",
        "        ])\n",
        "\n",
        "        self.id_to_image_fname = self._find_iamges()\n",
        "\n",
        "\n",
        "    def assert_eq(self,real, expected):\n",
        "        assert real == expected, \"%s (true) vs %s (expected)\" % (real, expected)\n",
        "\n",
        "    def _create_entry(self,question, answer):\n",
        "        answer.pop(\"image_id\")\n",
        "        answer.pop(\"question_id\")\n",
        "        entry = {\n",
        "            \"question_id\": question[\"question_id\"],\n",
        "            \"image_id\": question[\"image_id\"],\n",
        "            \"question\": question[\"question\"],\n",
        "            \"answer\": [a['answer'] for a in answer['answers']],\n",
        "        }\n",
        "        return entry\n",
        "\n",
        "    def _load_dataset(self,dataroot, name):\n",
        "        \"\"\"Load entries\n",
        "        dataroot: root path of dataset\n",
        "        name: 'train', 'val', 'trainval', 'minsval'\n",
        "        \"\"\"\n",
        "        if name == 'train' or name == 'val':\n",
        "            question_path = os.path.join(dataroot, \"v2_OpenEnded_mscoco_%s2014_questions.json\" % name)\n",
        "            questions = sorted(json.load(open(question_path))[\"questions\"], key=lambda x: x[\"question_id\"])\n",
        "            answer_path = os.path.join(dataroot, \"v2_mscoco_%s2014_annotations.json\" % name)\n",
        "            answers = json.load(open(answer_path, \"rb\"))[\"annotations\"]\n",
        "            answers = sorted(answers, key=lambda x: x[\"question_id\"])\n",
        "\n",
        "        elif name  == 'trainval':\n",
        "            question_path_train = os.path.join(dataroot, \"v2_OpenEnded_mscoco_%s2014_questions.json\" % 'train')\n",
        "            questions_train = sorted(json.load(open(question_path_train))[\"questions\"], key=lambda x: x[\"question_id\"])\n",
        "            answer_path_train = os.path.join(dataroot, \"v2_mscoco_%s2014_annotations.json\" % 'train')\n",
        "            answers_train = json.load(open(answer_path_train, \"rb\"))[\"annotations\"]\n",
        "            answers_train = sorted(answers_train, key=lambda x: x[\"question_id\"])\n",
        "\n",
        "            question_path_val = os.path.join(dataroot, \"v2_OpenEnded_mscoco_%s2014_questions.json\" % 'val')\n",
        "            questions_val = sorted(json.load(open(question_path_val))[\"questions\"], key=lambda x: x[\"question_id\"])\n",
        "            answer_path_val = os.path.join(dataroot, \"v2_mscoco_%s2014_annotations.json\" % 'val')\n",
        "            answers_val = json.load(open(answer_path_val, \"rb\"))[\"annotations\"]\n",
        "            answers_val = sorted(answers_val, key=lambda x: x[\"question_id\"])\n",
        "            questions = questions_train + questions_val[:-3000]\n",
        "            answers = answers_train + answers_val[:-3000]\n",
        "\n",
        "        elif name == 'minval':\n",
        "            question_path_val = os.path.join(dataroot, \"v2_OpenEnded_mscoco_%s2014_questions.json\" % 'val')\n",
        "            questions_val = sorted(json.load(open(question_path_val))[\"questions\"], key=lambda x: x[\"question_id\"])\n",
        "            answer_path_val = os.path.join(dataroot, \"v2_mscoco_%s2014_annotations.json\" % 'val')\n",
        "            answers_val = json.load(open(answer_path_val, \"rb\"))[\"annotations\"]\n",
        "            answers_val = sorted(answers_val, key=lambda x: x[\"question_id\"])        \n",
        "            questions = questions_val[-3000:]\n",
        "            answers = answers_val[-3000:]\n",
        "\n",
        "        elif name == 'test':\n",
        "            question_path_test = os.path.join(dataroot, \"v2_OpenEnded_mscoco_%s2015_questions.json\" % 'test')\n",
        "            questions_test = sorted(json.load(open(question_path_test))[\"questions\"], key=lambda x: x[\"question_id\"])\n",
        "            questions = questions_test\n",
        "        else:\n",
        "            assert False, \"data split is not recognized.\"\n",
        "\n",
        "        if 'test' in name:\n",
        "            entries = []\n",
        "            for question in questions:\n",
        "                entries.append(question)\n",
        "        else:\n",
        "            assert_eq(len(questions), len(answers))\n",
        "            entries = []\n",
        "            for question, answer in zip(questions, answers):\n",
        "                assert_eq(question[\"question_id\"], answer[\"question_id\"])\n",
        "                assert_eq(question[\"image_id\"], answer[\"image_id\"])\n",
        "                entries.append(_create_entry(question, answer))\n",
        "        return entries\n",
        "\n",
        "\n",
        "\n",
        "    def _encode_question(self, question):\n",
        "        \"\"\" Turn a question into a vector of indices and a question length \"\"\"\n",
        "        \n",
        "        inputs = self.tokenizer.encode_plus(\n",
        "            question,\n",
        "            None,\n",
        "            add_special_tokens=True,\n",
        "            max_length=self.max_len,\n",
        "            )\n",
        "\n",
        "        ids = inputs[\"input_ids\"]\n",
        "        mask = inputs[\"attention_mask\"]\n",
        "        token_type_ids = inputs[\"token_type_ids\"]\n",
        "\n",
        "        padding_length = self.max_len - len(ids)\n",
        "        ids += ([0]*padding_length)\n",
        "        mask += ([0]*padding_length)\n",
        "        token_type_ids += ([0]*padding_length)\n",
        "        \n",
        "        return {\n",
        "            'ids': torch.tensor(ids, dtype=torch.long),\n",
        "            'mask': torch.tensor(mask, dtype=torch.long),\n",
        "            'token_type_ids': torch.tensor(token_type_ids, dtype=torch.long),\n",
        "            \n",
        "        }\n",
        "\n",
        "    def _encode_ansfor_bert(self, answers):\n",
        "        pass\n",
        "\n",
        "\n",
        "    def _encode_answers(self, answers):\n",
        "        \"\"\" Turn an answer into a vector \"\"\"\n",
        "        # answer vec will be a vector of answer counts to determine which answers will contribute to the loss.\n",
        "        # this should be multiplied with 0.1 * negative log-likelihoods that a model produces and then summed up\n",
        "        # to get the loss that is weighted by how many humans gave that answer\n",
        "        answer_vec = torch.zeros(len(self.answer_to_index),dtype=torch.long)\n",
        "        for answer in answers:\n",
        "            index = self.answer_to_index.get(answer)\n",
        "            if index is not None:\n",
        "                answer_vec[index] += 1\n",
        "        _,idx = answer_vec.max(dim = 0)\n",
        "        idx = torch.tensor(idx, dtype = torch.long)\n",
        "\n",
        "        return idx\n",
        "\n",
        "   \n",
        "    def _find_iamges(self):\n",
        "        id_to_filename = {}\n",
        "        imgs_folder = os.path.join(self.root,'train2014')\n",
        "        for filename in os.listdir(imgs_folder):\n",
        "            if not filename.endswith('.jpg'):\n",
        "                continue\n",
        "            id_and_extension = filename.split('_')[-1]\n",
        "            id = int(id_and_extension.split('.')[0])\n",
        "            id_to_filename[id] = os.path.join(imgs_folder,filename)\n",
        "        return id_to_filename\n",
        "\n",
        "\n",
        "    def _load_image(self, image_id):\n",
        "        \"\"\" Load an image \"\"\"\n",
        "\n",
        "        img_path = self.id_to_image_fname[image_id]\n",
        "        img  = Image.open(img_path)\n",
        "        img = np.asarray(img)\n",
        "        \n",
        "        if len(img.shape)==2:\n",
        "            print(img.shape)\n",
        "            img=np.expand_dims(img, axis=-1)\n",
        "            \n",
        "            img = np.repeat(img,3, axis = -1)\n",
        "            print(img.shape)\n",
        "\n",
        "        return img\n",
        "\n",
        "    def __getitem__(self, item):\n",
        "       \n",
        "        entry  = self.entries[item]\n",
        "        q = entry['question']\n",
        "        a = self._encode_answers(entry['answer'])\n",
        "        image_id = entry['image_id']\n",
        "\n",
        "        img = self._load_image(image_id)\n",
        "        img = Image.fromarray(img)\n",
        "        img = self.transform(img)\n",
        "        #question_id = entry['question_id']\n",
        "        q= self._encode_question(q)\n",
        "\n",
        "        return img, q, a\n",
        "\n",
        "    def __len__(self):\n",
        "        return len(self.entries)\n",
        "\n",
        "    @staticmethod\n",
        "    def collate_fn(batch):\n",
        "        \"\"\"The collat_fn method to be used by the\n",
        "        PyTorch data loader.\n",
        "        \"\"\"\n",
        "        \n",
        "        # Unzip the batch\n",
        "\n",
        "        imgs,qs, answers = list(zip(*batch))\n",
        "\n",
        "        # concatenate the vectors\n",
        "        imgs = torch.stack(imgs)\n",
        "        \n",
        "        #concatenate the labels\n",
        "        q = torch.stack(qs)\n",
        "\n",
        "        a = torch.stack(answers)\n",
        "        \n",
        "        return imgs, q, a"
      ],
      "execution_count": 0,
      "outputs": []
    },
    {
      "cell_type": "code",
      "metadata": {
        "id": "Ff9kOL6KIncK",
        "colab_type": "code",
        "colab": {}
      },
      "source": [
        "bert_tokenizer = BertTokenizer.from_pretrained('bert-base-uncased', do_lower_case=True)"
      ],
      "execution_count": 0,
      "outputs": []
    },
    {
      "cell_type": "code",
      "metadata": {
        "id": "rhYh98-8GROJ",
        "colab_type": "code",
        "colab": {}
      },
      "source": [
        "vqa_data = VQA(root='/content', answer_to_index=answer_to_index,split= 'train', tokenizer=bert_tokenizer, max_len=15 )"
      ],
      "execution_count": 0,
      "outputs": []
    },
    {
      "cell_type": "code",
      "metadata": {
        "id": "UKR94pUILXJm",
        "colab_type": "code",
        "colab": {}
      },
      "source": [
        "hparams = Namespace(\n",
        "    batch_size=1,\n",
        "    warmup_steps=100,\n",
        "    epochs=3,\n",
        "    lr=3e-5,\n",
        "    accumulate_grad_batches=1\n",
        ")"
      ],
      "execution_count": 0,
      "outputs": []
    },
    {
      "cell_type": "code",
      "metadata": {
        "id": "uhbtt7a2OfCk",
        "colab_type": "code",
        "colab": {}
      },
      "source": [
        "vqa_detr = VQA_DETR(num_ans=len(answer_to_index),hparams=hparams, vqa_dataset= vqa_data)"
      ],
      "execution_count": 0,
      "outputs": []
    },
    {
      "cell_type": "code",
      "metadata": {
        "id": "cXeflNl8HEy7",
        "colab_type": "code",
        "colab": {}
      },
      "source": [
        "#data_loader = DataLoader(vqa_data, batch_size = hparams.batch_size, shuffle= True)"
      ],
      "execution_count": 0,
      "outputs": []
    },
    {
      "cell_type": "code",
      "metadata": {
        "id": "tosN3pPcRCQZ",
        "colab_type": "code",
        "colab": {
          "base_uri": "https://localhost:8080/",
          "height": 71
        },
        "outputId": "23980c05-4423-4535-b932-9bfa74eddcad"
      },
      "source": [
        "!free -h"
      ],
      "execution_count": 17,
      "outputs": [
        {
          "output_type": "stream",
          "text": [
            "              total        used        free      shared  buff/cache   available\n",
            "Mem:            12G        3.9G        7.4G        972K        1.4G        8.9G\n",
            "Swap:            0B          0B          0B\n"
          ],
          "name": "stdout"
        }
      ]
    },
    {
      "cell_type": "code",
      "metadata": {
        "id": "WV4y-BdvRIZj",
        "colab_type": "code",
        "colab": {
          "base_uri": "https://localhost:8080/",
          "height": 35
        },
        "outputId": "8c1c7bbb-ab49-4399-85a2-8e055a5e0354"
      },
      "source": [
        "!cat /proc/cpuinfo | grep processor | wc -l"
      ],
      "execution_count": 18,
      "outputs": [
        {
          "output_type": "stream",
          "text": [
            "2\n"
          ],
          "name": "stdout"
        }
      ]
    },
    {
      "cell_type": "code",
      "metadata": {
        "id": "YGZ-OqgvOe-u",
        "colab_type": "code",
        "colab": {
          "base_uri": "https://localhost:8080/",
          "height": 71
        },
        "outputId": "cf53f8b0-13e5-4ca4-ff00-61243bf148ce"
      },
      "source": [
        "trainer = Trainer(num_tpu_cores=8, default_save_path='/gdrive/My Drive/dl_projects/VQA_detr',train_percent_check=0.1, max_epochs=10, max_steps=2000)\n",
        "trainer.fit(vqa_detr)"
      ],
      "execution_count": 0,
      "outputs": [
        {
          "output_type": "stream",
          "text": [
            "GPU available: False, used: False\n",
            "No environment variable for node rank defined. Set as 0.\n",
            "training on 8 TPU cores\n"
          ],
          "name": "stderr"
        }
      ]
    },
    {
      "cell_type": "code",
      "metadata": {
        "id": "mpsKfzoTPvN9",
        "colab_type": "code",
        "colab": {
          "base_uri": "https://localhost:8080/",
          "height": 323
        },
        "outputId": "525e0c17-ba8b-466b-d06f-4492603a75c1"
      },
      "source": [
        "# Start tensorboard.\n",
        "%reload_ext tensorboard\n",
        "%tensorboard --logdir gdrive/My Drive/dl_projects/VQA_detr/lightning_logs "
      ],
      "execution_count": 30,
      "outputs": [
        {
          "output_type": "display_data",
          "data": {
            "text/plain": [
              "ERROR: Failed to launch TensorBoard (exited with 2).\n",
              "Contents of stderr:\n",
              "usage: tensorboard [-h] [--helpfull] [--logdir PATH] [--logdir_spec PATH_SPEC]\n",
              "                   [--host ADDR] [--bind_all] [--port PORT]\n",
              "                   [--purge_orphaned_data BOOL] [--db URI] [--db_import]\n",
              "                   [--inspect] [--version_tb] [--tag TAG] [--event_file PATH]\n",
              "                   [--path_prefix PATH] [--window_title TEXT]\n",
              "                   [--max_reload_threads COUNT] [--reload_interval SECONDS]\n",
              "                   [--reload_task TYPE] [--reload_multifile BOOL]\n",
              "                   [--reload_multifile_inactive_secs SECONDS]\n",
              "                   [--generic_data TYPE]\n",
              "                   [--samples_per_plugin SAMPLES_PER_PLUGIN]\n",
              "                   [--debugger_data_server_grpc_port PORT]\n",
              "                   [--debugger_port PORT]\n",
              "                   {serve,dev} ...\n",
              "tensorboard: error: invalid choice: 'Drive/dl_projects/VQA_detr/lightning_logs' (choose from 'serve', 'dev')"
            ]
          },
          "metadata": {
            "tags": []
          }
        }
      ]
    },
    {
      "cell_type": "code",
      "metadata": {
        "id": "Lkixu9cEiuH4",
        "colab_type": "code",
        "colab": {}
      },
      "source": [
        "model_save= model"
      ],
      "execution_count": 0,
      "outputs": []
    },
    {
      "cell_type": "code",
      "metadata": {
        "id": "vmkzyZD2lms4",
        "colab_type": "code",
        "colab": {}
      },
      "source": [
        "model_save.eval().to('cpu')"
      ],
      "execution_count": 0,
      "outputs": []
    },
    {
      "cell_type": "code",
      "metadata": {
        "id": "LocAAdSLiyoJ",
        "colab_type": "code",
        "outputId": "50de639e-6cec-4d69-964b-c612af188024",
        "colab": {
          "base_uri": "https://localhost:8080/",
          "height": 55
        }
      },
      "source": [
        "img,q,a=vqa_data[4522]"
      ],
      "execution_count": 0,
      "outputs": [
        {
          "output_type": "stream",
          "text": [
            "/usr/local/lib/python3.6/dist-packages/ipykernel_launcher.py:137: UserWarning: To copy construct from a tensor, it is recommended to use sourceTensor.clone().detach() or sourceTensor.clone().detach().requires_grad_(True), rather than torch.tensor(sourceTensor).\n"
          ],
          "name": "stderr"
        }
      ]
    },
    {
      "cell_type": "code",
      "metadata": {
        "id": "M0C9hbUzjA7j",
        "colab_type": "code",
        "colab": {}
      },
      "source": [
        "\n",
        "out = model_save(img.unsqueeze(0),q['ids'].unsqueeze(0))\n"
      ],
      "execution_count": 0,
      "outputs": []
    },
    {
      "cell_type": "code",
      "metadata": {
        "id": "p672z_Qvjh2l",
        "colab_type": "code",
        "colab": {}
      },
      "source": [
        "a,index = out['logits'].max(dim = -1)"
      ],
      "execution_count": 0,
      "outputs": []
    },
    {
      "cell_type": "code",
      "metadata": {
        "id": "lB5ULieHlM7I",
        "colab_type": "code",
        "colab": {}
      },
      "source": [
        "bert_tokenizer.convert_ids_to_tokens(q['ids'])"
      ],
      "execution_count": 0,
      "outputs": []
    },
    {
      "cell_type": "code",
      "metadata": {
        "id": "0bvtBHGVkDr5",
        "colab_type": "code",
        "colab": {}
      },
      "source": [
        "all_answers[int(index)]"
      ],
      "execution_count": 0,
      "outputs": []
    },
    {
      "cell_type": "code",
      "metadata": {
        "id": "p2RgCuljj0rA",
        "colab_type": "code",
        "colab": {}
      },
      "source": [
        "plt.imshow(img.permute(1,2,0))"
      ],
      "execution_count": 0,
      "outputs": []
    },
    {
      "cell_type": "code",
      "metadata": {
        "id": "hYwwjn7cg5LL",
        "colab_type": "code",
        "colab": {
          "base_uri": "https://localhost:8080/",
          "height": 187
        },
        "outputId": "24de569f-4ef5-4708-dbb3-d4be9876c699"
      },
      "source": [
        "while 1:\n",
        "    continue"
      ],
      "execution_count": 28,
      "outputs": [
        {
          "output_type": "error",
          "ename": "KeyboardInterrupt",
          "evalue": "ignored",
          "traceback": [
            "\u001b[0;31m---------------------------------------------------------------------------\u001b[0m",
            "\u001b[0;31mKeyboardInterrupt\u001b[0m                         Traceback (most recent call last)",
            "\u001b[0;32m<ipython-input-28-c9af83e2fc0a>\u001b[0m in \u001b[0;36m<module>\u001b[0;34m()\u001b[0m\n\u001b[1;32m      1\u001b[0m \u001b[0;32mwhile\u001b[0m \u001b[0;36m1\u001b[0m\u001b[0;34m:\u001b[0m\u001b[0;34m\u001b[0m\u001b[0;34m\u001b[0m\u001b[0m\n\u001b[0;32m----> 2\u001b[0;31m     \u001b[0;32mcontinue\u001b[0m\u001b[0;34m\u001b[0m\u001b[0;34m\u001b[0m\u001b[0m\n\u001b[0m",
            "\u001b[0;31mKeyboardInterrupt\u001b[0m: "
          ]
        }
      ]
    },
    {
      "cell_type": "code",
      "metadata": {
        "id": "jzGeoINdgUkg",
        "colab_type": "code",
        "colab": {}
      },
      "source": [
        "import torch\n",
        "from torch import nn"
      ],
      "execution_count": 0,
      "outputs": []
    },
    {
      "cell_type": "code",
      "metadata": {
        "id": "xeUiwvNxg5IL",
        "colab_type": "code",
        "outputId": "d016ae3b-bdb4-43a4-feaf-f5e9b673f147",
        "colab": {
          "base_uri": "https://localhost:8080/",
          "height": 35
        }
      },
      "source": [
        "loss = nn.CrossEntropyLoss()\n",
        "input = torch.randn(3, 5, requires_grad=True)\n",
        "target = torch.empty(3, dtype=torch.long).random_(5)\n",
        "output = loss(input, target)\n",
        "print(output)\n",
        "output.backward()"
      ],
      "execution_count": 0,
      "outputs": [
        {
          "output_type": "stream",
          "text": [
            "tensor(2.7195, grad_fn=<NllLossBackward>)\n"
          ],
          "name": "stdout"
        }
      ]
    },
    {
      "cell_type": "code",
      "metadata": {
        "id": "zxWysSRHg5GM",
        "colab_type": "code",
        "outputId": "4597a5b0-57e0-48e6-9fd2-63346294fce5",
        "colab": {
          "base_uri": "https://localhost:8080/",
          "height": 35
        }
      },
      "source": [
        "torch.__version__"
      ],
      "execution_count": 0,
      "outputs": [
        {
          "output_type": "execute_result",
          "data": {
            "text/plain": [
              "'1.5.0+cu101'"
            ]
          },
          "metadata": {
            "tags": []
          },
          "execution_count": 4
        }
      ]
    },
    {
      "cell_type": "code",
      "metadata": {
        "id": "f7E47VdQBYim",
        "colab_type": "code",
        "outputId": "740f2c14-14aa-4500-e039-bfda773c20a5",
        "colab": {
          "base_uri": "https://localhost:8080/",
          "height": 35
        }
      },
      "source": [
        "output.requires_grad"
      ],
      "execution_count": 0,
      "outputs": [
        {
          "output_type": "execute_result",
          "data": {
            "text/plain": [
              "False"
            ]
          },
          "metadata": {
            "tags": []
          },
          "execution_count": 5
        }
      ]
    },
    {
      "cell_type": "code",
      "metadata": {
        "id": "9kRrRu0Pg5CD",
        "colab_type": "code",
        "outputId": "fa93fa9f-f554-46bf-8eb9-2f037c22789a",
        "colab": {
          "base_uri": "https://localhost:8080/",
          "height": 35
        }
      },
      "source": [
        "x = np.array([1, 2])\n",
        "print(x.shape)"
      ],
      "execution_count": 0,
      "outputs": [
        {
          "output_type": "stream",
          "text": [
            "(2,)\n"
          ],
          "name": "stdout"
        }
      ]
    },
    {
      "cell_type": "code",
      "metadata": {
        "id": "KB1c-xPkg4_7",
        "colab_type": "code",
        "colab": {}
      },
      "source": [
        "z=np.expand_dims(x, axis=-1)\n",
        "np.repeat(z,3,axis=-1).shape"
      ],
      "execution_count": 0,
      "outputs": []
    },
    {
      "cell_type": "code",
      "metadata": {
        "id": "HC7x-7cgg48D",
        "colab_type": "code",
        "outputId": "eceb7049-1453-49c7-ab64-298391547a3d",
        "colab": {
          "base_uri": "https://localhost:8080/",
          "height": 35
        }
      },
      "source": [
        ""
      ],
      "execution_count": 0,
      "outputs": [
        {
          "output_type": "execute_result",
          "data": {
            "text/plain": [
              "(2, 3)"
            ]
          },
          "metadata": {
            "tags": []
          },
          "execution_count": 75
        }
      ]
    },
    {
      "cell_type": "code",
      "metadata": {
        "id": "jMYEVVN6g46I",
        "colab_type": "code",
        "colab": {}
      },
      "source": [
        ""
      ],
      "execution_count": 0,
      "outputs": []
    },
    {
      "cell_type": "code",
      "metadata": {
        "id": "eW4yYVKkg42L",
        "colab_type": "code",
        "colab": {}
      },
      "source": [
        ""
      ],
      "execution_count": 0,
      "outputs": []
    },
    {
      "cell_type": "code",
      "metadata": {
        "id": "jN4YyXjspxbR",
        "colab_type": "code",
        "colab": {}
      },
      "source": [
        "for im,q,a in data_loader:\n",
        "    print(im.shape)\n",
        "    print(q['ids'].shape)\n",
        "    print(a.shape)\n",
        "    break"
      ],
      "execution_count": 0,
      "outputs": []
    },
    {
      "cell_type": "code",
      "metadata": {
        "id": "AdEvUm4kDjvx",
        "colab_type": "code",
        "outputId": "5d64ecf0-9113-4ed4-884d-ab672c7a98ce",
        "colab": {
          "base_uri": "https://localhost:8080/",
          "height": 35
        }
      },
      "source": [
        "len(answer_to_index)"
      ],
      "execution_count": 0,
      "outputs": [
        {
          "output_type": "execute_result",
          "data": {
            "text/plain": [
              "162496"
            ]
          },
          "metadata": {
            "tags": []
          },
          "execution_count": 122
        }
      ]
    },
    {
      "cell_type": "code",
      "metadata": {
        "id": "-EX7BA0oNFVc",
        "colab_type": "code",
        "colab": {}
      },
      "source": [
        "img,q,a=vqa_data[58]"
      ],
      "execution_count": 0,
      "outputs": []
    },
    {
      "cell_type": "code",
      "metadata": {
        "id": "OJExIYdDGwlC",
        "colab_type": "code",
        "colab": {}
      },
      "source": [
        "a,b=torch.max(a.unsqueeze(0),dim = 1)"
      ],
      "execution_count": 0,
      "outputs": []
    },
    {
      "cell_type": "code",
      "metadata": {
        "id": "D9ad7adt54T7",
        "colab_type": "code",
        "outputId": "44a748ef-865c-4ba6-d8a4-710325d74af6",
        "colab": {
          "base_uri": "https://localhost:8080/",
          "height": 169
        }
      },
      "source": [
        "b.requires_grad = True"
      ],
      "execution_count": 0,
      "outputs": [
        {
          "output_type": "error",
          "ename": "RuntimeError",
          "evalue": "ignored",
          "traceback": [
            "\u001b[0;31m---------------------------------------------------------------------------\u001b[0m",
            "\u001b[0;31mRuntimeError\u001b[0m                              Traceback (most recent call last)",
            "\u001b[0;32m<ipython-input-50-f64918c89499>\u001b[0m in \u001b[0;36m<module>\u001b[0;34m()\u001b[0m\n\u001b[0;32m----> 1\u001b[0;31m \u001b[0mb\u001b[0m\u001b[0;34m.\u001b[0m\u001b[0mrequires_grad\u001b[0m \u001b[0;34m=\u001b[0m \u001b[0;32mTrue\u001b[0m\u001b[0;34m\u001b[0m\u001b[0;34m\u001b[0m\u001b[0m\n\u001b[0m",
            "\u001b[0;31mRuntimeError\u001b[0m: only Tensors of floating point dtype can require gradients"
          ]
        }
      ]
    },
    {
      "cell_type": "code",
      "metadata": {
        "id": "72e-rwiQNFLF",
        "colab_type": "code",
        "outputId": "fbe9d96a-5881-4e41-dc2a-12963ab48a17",
        "colab": {
          "base_uri": "https://localhost:8080/",
          "height": 35
        }
      },
      "source": [
        "a.unsqueeze(0).view(-1,1).shape\n"
      ],
      "execution_count": 0,
      "outputs": [
        {
          "output_type": "execute_result",
          "data": {
            "text/plain": [
              "torch.Size([162496, 1])"
            ]
          },
          "metadata": {
            "tags": []
          },
          "execution_count": 121
        }
      ]
    },
    {
      "cell_type": "code",
      "metadata": {
        "id": "A0R64hJAnvC4",
        "colab_type": "code",
        "colab": {}
      },
      "source": [
        "bert_config = BertConfig(hidden_size=256, num_attention_heads=8, num_hidden_layers=6)\n",
        "bert_decoder_config = BertConfig(is_decoder=True, hidden_size=256, num_attention_heads=8, num_hidden_layers=6)\n",
        "\n",
        "enc_dec_config = EncoderDecoderConfig.from_encoder_decoder_configs(encoder_config= bert_config, decoder_config= bert_decoder_config)\n"
      ],
      "execution_count": 0,
      "outputs": []
    },
    {
      "cell_type": "code",
      "metadata": {
        "id": "TcNZWDKPlRlN",
        "colab_type": "code",
        "colab": {}
      },
      "source": [
        "model = EncoderDecoderModel(config= enc_dec_config)"
      ],
      "execution_count": 0,
      "outputs": []
    },
    {
      "cell_type": "code",
      "metadata": {
        "id": "pfZOXxIFlZK9",
        "colab_type": "code",
        "colab": {}
      },
      "source": [
        "outputs = model(input_ids = q['ids'].unsqueeze(0), decoder_inputs_embeds = h[0].unsqueeze(0).flatten(2).permute(2, 0, 1))"
      ],
      "execution_count": 0,
      "outputs": []
    },
    {
      "cell_type": "code",
      "metadata": {
        "id": "KsjQtkw0mGv_",
        "colab_type": "code",
        "colab": {}
      },
      "source": [
        "outputs[2].shape"
      ],
      "execution_count": 0,
      "outputs": []
    },
    {
      "cell_type": "code",
      "metadata": {
        "id": "w8H-1gtoRmWI",
        "colab_type": "code",
        "colab": {}
      },
      "source": [
        "bert_decoder = BertModel(config  = bert_decoder_config)\n",
        "outputs = bert_decoder(input_ids = q['ids'].unsqueeze(0), encoder_hidden_states = h[0].unsqueeze(0).flatten(2).permute(0,2,1))"
      ],
      "execution_count": 0,
      "outputs": []
    },
    {
      "cell_type": "code",
      "metadata": {
        "id": "9fpRcCBhSe63",
        "colab_type": "code",
        "colab": {}
      },
      "source": [
        "outputs = bert_decoder(input_ids = q['ids'].unsqueeze(0), encoder_hidden_states = h[0].unsqueeze(0).flatten(2).permute(0,2,1))"
      ],
      "execution_count": 0,
      "outputs": []
    },
    {
      "cell_type": "code",
      "metadata": {
        "id": "b6q0BavU9BHN",
        "colab_type": "code",
        "colab": {}
      },
      "source": [
        "while 1 :\n",
        "    continue"
      ],
      "execution_count": 0,
      "outputs": []
    },
    {
      "cell_type": "code",
      "metadata": {
        "id": "-91LWQZDc1wK",
        "colab_type": "code",
        "colab": {}
      },
      "source": [
        "BertModel??"
      ],
      "execution_count": 0,
      "outputs": []
    },
    {
      "cell_type": "code",
      "metadata": {
        "id": "rlIue81hy08k",
        "colab_type": "code",
        "colab": {}
      },
      "source": [
        " h[0].unsqueeze(0).flatten(2).permute(0, 2, 1).shape"
      ],
      "execution_count": 0,
      "outputs": []
    },
    {
      "cell_type": "code",
      "metadata": {
        "id": "TYLN4RJRXXuZ",
        "colab_type": "code",
        "colab": {}
      },
      "source": [
        "q['ids'].unsqueeze(0).shape"
      ],
      "execution_count": 0,
      "outputs": []
    },
    {
      "cell_type": "code",
      "metadata": {
        "id": "SiLAyykeXx_G",
        "colab_type": "code",
        "colab": {}
      },
      "source": [
        ""
      ],
      "execution_count": 0,
      "outputs": []
    }
  ]
}